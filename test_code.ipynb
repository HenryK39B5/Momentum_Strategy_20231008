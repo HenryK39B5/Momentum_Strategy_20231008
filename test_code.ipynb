{
 "cells": [
  {
   "cell_type": "code",
   "execution_count": 1,
   "metadata": {},
   "outputs": [
    {
     "name": "stdout",
     "output_type": "stream",
     "text": [
      "F:\\Study\\Study Files\\05大三上\\金融统计分析\\实验课1\\1_Rawdata\n"
     ]
    }
   ],
   "source": [
    "# 设定data路径\n",
    "import os\n",
    "\n",
    "os.chdir(r'F:\\Study\\Study Files\\05大三上\\金融统计分析\\实验课1\\1_Rawdata')\n",
    "\n",
    "current_path = os.getcwd()\n",
    "print(current_path)\n",
    "\n",
    "import pandas as pd\n",
    "import numpy as np\n",
    "import datetime as dt\n",
    "import matplotlib.pyplot as plt\n",
    "import seaborn as sns\n",
    "\n",
    "# 读取数据\n",
    "data = pd.read_csv('TRD_Mnth.csv')\n",
    "data = data.drop(['Markettype'], axis=1)\n",
    "\n",
    "# 确保数据按股票代码和日期排序\n",
    "data = data.sort_values(['Stkcd', 'Trdmnt'])\n",
    "data['Trdmnt'] = pd.to_datetime(data['Trdmnt'])\n",
    "\n",
    "# 设置回测期\n",
    "data_trade = data[(data['Trdmnt'] >= '2002-01-01') & (data['Trdmnt'] <= '2002-12-31')]\n",
    "\n",
    "# 初始化一个3x3的DataFrame来保存不同策略的收益\n",
    "result = pd.DataFrame(index=[1,3,6], columns=[1,3,6])\n",
    "\n",
    "# 获取唯一的年月，作为回测的月份点\n",
    "unique_year_month = data_trade['Trdmnt'].dt.to_period('M').unique()"
   ]
  },
  {
   "cell_type": "code",
   "execution_count": 2,
   "metadata": {},
   "outputs": [
    {
     "name": "stdout",
     "output_type": "stream",
     "text": [
      "<PeriodArray>\n",
      "['2002-01', '2002-02', '2002-03', '2002-04', '2002-05', '2002-06', '2002-07',\n",
      " '2002-08', '2002-09', '2002-10', '2002-11', '2002-12']\n",
      "Length: 12, dtype: period[M]\n"
     ]
    }
   ],
   "source": [
    "print(unique_year_month)"
   ]
  },
  {
   "cell_type": "code",
   "execution_count": 3,
   "metadata": {},
   "outputs": [
    {
     "name": "stdout",
     "output_type": "stream",
     "text": [
      "current_ym 是 2002-01\n",
      "end_date 是 2002-01-01 00:00:00\n",
      "start_date 是 2001-10-01 00:00:00\n",
      "hold_end_date 是 2002-04-01 00:00:00\n"
     ]
    }
   ],
   "source": [
    "form_period = 3\n",
    "hold_period = 3\n",
    " \n",
    "all_returns = []\n",
    "\n",
    "current_ym = unique_year_month[0]\n",
    "\n",
    "\n",
    "# 将年月转换为实际的日期\n",
    "end_date = pd.to_datetime(current_ym.to_timestamp())\n",
    "start_date = end_date - pd.DateOffset(months=form_period)  # 形成期起始日期\n",
    "hold_end_date = end_date + pd.DateOffset(months=hold_period)  # 持有期结束日期\n",
    "\n",
    "print('current_ym 是',current_ym)\n",
    "print('end_date 是',end_date)\n",
    "print('start_date 是',start_date)\n",
    "print('hold_end_date 是',hold_end_date)\n"
   ]
  },
  {
   "cell_type": "code",
   "execution_count": 5,
   "metadata": {},
   "outputs": [
    {
     "data": {
      "text/html": [
       "<div>\n",
       "<style scoped>\n",
       "    .dataframe tbody tr th:only-of-type {\n",
       "        vertical-align: middle;\n",
       "    }\n",
       "\n",
       "    .dataframe tbody tr th {\n",
       "        vertical-align: top;\n",
       "    }\n",
       "\n",
       "    .dataframe thead th {\n",
       "        text-align: right;\n",
       "    }\n",
       "</style>\n",
       "<table border=\"1\" class=\"dataframe\">\n",
       "  <thead>\n",
       "    <tr style=\"text-align: right;\">\n",
       "      <th></th>\n",
       "      <th>Stkcd</th>\n",
       "      <th>Trdmnt</th>\n",
       "      <th>Msmvosd</th>\n",
       "      <th>Mretwd</th>\n",
       "    </tr>\n",
       "  </thead>\n",
       "  <tbody>\n",
       "    <tr>\n",
       "      <th>count</th>\n",
       "      <td>3767.000000</td>\n",
       "      <td>3767</td>\n",
       "      <td>3.767000e+03</td>\n",
       "      <td>3756.000000</td>\n",
       "    </tr>\n",
       "    <tr>\n",
       "      <th>mean</th>\n",
       "      <td>356133.289089</td>\n",
       "      <td>2002-03-02 00:57:20.403504128</td>\n",
       "      <td>1.085568e+06</td>\n",
       "      <td>0.053980</td>\n",
       "    </tr>\n",
       "    <tr>\n",
       "      <th>min</th>\n",
       "      <td>1.000000</td>\n",
       "      <td>2002-02-01 00:00:00</td>\n",
       "      <td>3.588000e+04</td>\n",
       "      <td>-0.649533</td>\n",
       "    </tr>\n",
       "    <tr>\n",
       "      <th>25%</th>\n",
       "      <td>751.500000</td>\n",
       "      <td>2002-02-01 00:00:00</td>\n",
       "      <td>5.907904e+05</td>\n",
       "      <td>0.012112</td>\n",
       "    </tr>\n",
       "    <tr>\n",
       "      <th>50%</th>\n",
       "      <td>600103.000000</td>\n",
       "      <td>2002-03-01 00:00:00</td>\n",
       "      <td>8.552000e+05</td>\n",
       "      <td>0.042991</td>\n",
       "    </tr>\n",
       "    <tr>\n",
       "      <th>75%</th>\n",
       "      <td>600637.500000</td>\n",
       "      <td>2002-04-01 00:00:00</td>\n",
       "      <td>1.282185e+06</td>\n",
       "      <td>0.085148</td>\n",
       "    </tr>\n",
       "    <tr>\n",
       "      <th>max</th>\n",
       "      <td>900957.000000</td>\n",
       "      <td>2002-04-01 00:00:00</td>\n",
       "      <td>1.620766e+07</td>\n",
       "      <td>1.234496</td>\n",
       "    </tr>\n",
       "    <tr>\n",
       "      <th>std</th>\n",
       "      <td>307833.373885</td>\n",
       "      <td>NaN</td>\n",
       "      <td>9.602750e+05</td>\n",
       "      <td>0.073785</td>\n",
       "    </tr>\n",
       "  </tbody>\n",
       "</table>\n",
       "</div>"
      ],
      "text/plain": [
       "               Stkcd                         Trdmnt       Msmvosd       Mretwd\n",
       "count    3767.000000                           3767  3.767000e+03  3756.000000\n",
       "mean   356133.289089  2002-03-02 00:57:20.403504128  1.085568e+06     0.053980\n",
       "min         1.000000            2002-02-01 00:00:00  3.588000e+04    -0.649533\n",
       "25%       751.500000            2002-02-01 00:00:00  5.907904e+05     0.012112\n",
       "50%    600103.000000            2002-03-01 00:00:00  8.552000e+05     0.042991\n",
       "75%    600637.500000            2002-04-01 00:00:00  1.282185e+06     0.085148\n",
       "max    900957.000000            2002-04-01 00:00:00  1.620766e+07     1.234496\n",
       "std    307833.373885                            NaN  9.602750e+05     0.073785"
      ]
     },
     "execution_count": 5,
     "metadata": {},
     "output_type": "execute_result"
    }
   ],
   "source": [
    "mask = (data['Trdmnt'] > end_date) & (data['Trdmnt'] <= hold_end_date)\n",
    "\n",
    "data_mask = data.loc[mask]\n",
    "\n",
    "data_mask.describe()"
   ]
  },
  {
   "cell_type": "code",
   "execution_count": null,
   "metadata": {},
   "outputs": [],
   "source": [
    "\n",
    "\n",
    "# 计算形成期内的累计收益\n",
    "mask = (data['Trdmnt'] >= start_date) & (data['Trdmnt'] < end_date)\n",
    "form_returns = data.loc[mask].groupby('Stkcd')['Mretwd'].apply(lambda x: (1 + x).prod() - 1)\n",
    "\n",
    "# 检查在持有期间是否有数据\n",
    "mask = (data['Trdmnt'] > end_date) & (data['Trdmnt'] <= hold_end_date)\n",
    "available_stocks = data.loc[mask]['Stkcd'].unique()\n",
    "\n",
    "# 仅保留那些在持有期内有数据的股票\n",
    "form_returns = form_returns[form_returns.index.isin(available_stocks)]\n",
    "\n",
    "# 从剩下的股票中确定赢家和输家\n",
    "\n",
    "winners = form_returns.nlargest(10).index\n",
    "losers = form_returns.nsmallest(10).index\n",
    "\n",
    "# 计算持有期收益\n",
    "mask = (data['Trdmnt'] > end_date) & (data['Trdmnt'] <= hold_end_date)\n",
    "hold_returns = data.loc[mask].groupby(['Stkcd', 'Trdmnt'])['Mretwd'].apply(lambda x: ((1 + x).prod())**(1/hold_period) - 1).unstack().mean(axis=1)\n",
    "\n",
    "winner_returns = hold_returns.loc[winners].mean()\n",
    "loser_returns = hold_returns.loc[losers].mean()\n",
    "\n",
    "# 计算策略收益：赢家收益 - 输家收益\n",
    "strategy_return = winner_returns - loser_returns\n",
    "\n",
    "all_returns.append(strategy_return)\n",
    "    \n",
    "# 删除缺失值\n",
    "all_returns_clean = [x for x in all_returns if not np.isnan(x)]\n",
    "\n",
    "# 计算累计收益率、几何平均收益率和年收益率\n",
    "cumulative_returns = [x + 1 for x in all_returns_clean]\n",
    "geometric_mean = np.prod(cumulative_returns) - 1\n",
    "annual_returns = (geometric_mean + 1) ** 12 - 1\n",
    "\n",
    "result.loc[form_period, hold_period] = annual_returns\n"
   ]
  },
  {
   "cell_type": "code",
   "execution_count": null,
   "metadata": {},
   "outputs": [],
   "source": [
    "sns.heatmap(result.astype(float), annot=True, fmt=\".2%\", cmap=\"RdYlGn\", center=0)\n",
    "plt.title(\"Momentum Strategy Returns (Jegadeesh and Titman, 1993)\")\n",
    "plt.xlabel(\"Holding Period (months)\")\n",
    "plt.ylabel(\"Formation Period (months)\")\n",
    "plt.show()"
   ]
  }
 ],
 "metadata": {
  "kernelspec": {
   "display_name": "base",
   "language": "python",
   "name": "python3"
  },
  "language_info": {
   "codemirror_mode": {
    "name": "ipython",
    "version": 3
   },
   "file_extension": ".py",
   "mimetype": "text/x-python",
   "name": "python",
   "nbconvert_exporter": "python",
   "pygments_lexer": "ipython3",
   "version": "3.9.13"
  }
 },
 "nbformat": 4,
 "nbformat_minor": 2
}
