{
 "cells": [
  {
   "cell_type": "code",
   "execution_count": 1,
   "metadata": {},
   "outputs": [],
   "source": [
    "# 设定data路径\n",
    "import os\n",
    "os.chdir(r'F:\\Study\\Study Files\\05大三上\\金融统计分析\\实验课1\\1_Rawdata')\n",
    "\n",
    "import pandas as pd\n",
    "import numpy as np\n",
    "import datetime as dt\n",
    "import matplotlib.pyplot as plt\n",
    "import seaborn as sns\n",
    "\n",
    "# 读取数据\n",
    "data = pd.read_csv('TRD_Mnth.csv')\n",
    "data = data.drop(['Markettype'], axis=1)"
   ]
  },
  {
   "cell_type": "code",
   "execution_count": 2,
   "metadata": {},
   "outputs": [],
   "source": [
    "forming_month_j = [1, 3, 6]\n",
    "holding_month_k = [1, 3, 6]\n",
    "winners_and_losers_count = 10"
   ]
  },
  {
   "cell_type": "code",
   "execution_count": 3,
   "metadata": {},
   "outputs": [],
   "source": [
    "# 确保数据按股票代码和日期排序\n",
    "data = data.sort_values(['Stkcd', 'Trdmnt'])\n",
    "data['Trdmnt'] = pd.to_datetime(data['Trdmnt'])\n",
    "\n",
    "# 设置回测期\n",
    "data_trade = data[(data['Trdmnt'] >= '2021-01-01') & (data['Trdmnt'] <= '2021-12-31')]\n",
    "\n",
    "# 初始化一个3x3的DataFrame来保存不同策略的收益\n",
    "result = pd.DataFrame(index=forming_month_j, columns=holding_month_k)\n",
    "\n",
    "# 获取唯一的年月，作为回测的月份点\n",
    "# unique_year_month = data_trade['Trdmnt'].dt.to_period('M').unique()\n",
    "#unique_year_month = data_trade['Trdmnt'].unique()\n",
    "unique_year_month = pd.PeriodIndex(data_trade['Trdmnt'].dt.to_period('M').unique())"
   ]
  },
  {
   "cell_type": "code",
   "execution_count": 4,
   "metadata": {},
   "outputs": [],
   "source": [
    "form_period = 3\n",
    "hold_period = 3\n",
    "\n",
    "all_returns = []\n",
    "all_returns_winners = []\n",
    "all_returns_losers = []\n",
    "past_winners = []\n",
    "past_losers = []"
   ]
  },
  {
   "cell_type": "code",
   "execution_count": 5,
   "metadata": {},
   "outputs": [],
   "source": [
    "# 根据hold_period生成额外的月份\n",
    "extra_months = pd.PeriodIndex([unique_year_month[-1] + i for i in range(1, hold_period)], freq='M')\n",
    "full_year_month = unique_year_month.union(extra_months)"
   ]
  },
  {
   "cell_type": "code",
   "execution_count": 6,
   "metadata": {},
   "outputs": [],
   "source": [
    "current_ym = full_year_month[0]"
   ]
  },
  {
   "cell_type": "code",
   "execution_count": 7,
   "metadata": {},
   "outputs": [],
   "source": [
    "end_date = pd.to_datetime(current_ym.to_timestamp())\n",
    "start_date = end_date - pd.DateOffset(months=form_period)\n",
    "\n",
    "mask = (data['Trdmnt'] > start_date) & (data['Trdmnt'] <= end_date)\n",
    "form_returns = data.loc[mask].groupby('Stkcd')['Mretwd'].apply(lambda x: (1 + x).prod() - 1)\n",
    "\n",
    "available_stocks = data.loc[data['Trdmnt'] > end_date]['Stkcd'].unique()\n",
    "form_returns = form_returns[form_returns.index.isin(available_stocks)]\n",
    "\n",
    "winners = form_returns.nlargest(winners_and_losers_count).index.tolist()\n",
    "losers = form_returns.nsmallest(winners_and_losers_count).index.tolist()\n",
    "\n",
    "past_winners.append(winners)\n",
    "past_losers.append(losers)\n",
    "\n",
    "# 如果我们的列表变得过长，就移除旧的元素\n",
    "if len(past_winners) > hold_period:\n",
    "    past_winners.pop(0)\n",
    "    past_losers.pop(0)"
   ]
  },
  {
   "cell_type": "code",
   "execution_count": 8,
   "metadata": {},
   "outputs": [],
   "source": [
    "# 计算当月所有past_winners和past_losers的平均收益\n",
    "mask = (data['Trdmnt'] == str(current_ym))\n",
    "current_winner_returns = [\n",
    "    data.loc[mask & data['Stkcd'].isin(winners_month)]['Mretwd'].mean() \n",
    "    for winners_month in past_winners\n",
    "]\n",
    "current_loser_returns = [\n",
    "    data.loc[mask & data['Stkcd'].isin(losers_month)]['Mretwd'].mean() \n",
    "    for losers_month in past_losers\n",
    "]"
   ]
  },
  {
   "cell_type": "code",
   "execution_count": 9,
   "metadata": {},
   "outputs": [],
   "source": [
    " # 取算数平均\n",
    "current_winner_return = np.nanmean(current_winner_returns)\n",
    "current_loser_return = np.nanmean(current_loser_returns)\n",
    "\n",
    "# 计算策略收益：赢家收益 - 输家收益\n",
    "#strategy_return = current_winner_return - current_loser_return\n",
    "all_returns_winners.append(current_winner_return)\n",
    "all_returns_losers.append(current_loser_return)\n",
    "\n",
    "# 移除nan，计算几何平均等\n",
    "all_returns_winners_clean = [x for x in all_returns_winners if not np.isnan(x)]\n",
    "all_returns_losers_clean = [x for x in all_returns_losers if not np.isnan(x)]\n",
    "\n",
    "cumulative_returns_winners = [x + 1 for x in all_returns_winners_clean]\n",
    "cumulative_returns_losers = [x + 1 for x in all_returns_losers_clean]\n",
    "\n",
    "geometric_mean_winners = np.prod(cumulative_returns_winners)**(1/len(cumulative_returns_winners)) - 1\n",
    "geometric_mean_losers = np.prod(cumulative_returns_losers)**(1/len(cumulative_returns_losers)) - 1\n",
    "\n",
    "annual_returns_winners = (geometric_mean_winners + 1) ** 12 - 1\n",
    "annual_returns_losers = (geometric_mean_losers + 1) ** 12 - 1\n",
    "\n",
    "annual_returns = annual_returns_winners - annual_returns_losers\n",
    "\n",
    "result.loc[form_period, hold_period] = annual_returns"
   ]
  },
  {
   "cell_type": "code",
   "execution_count": null,
   "metadata": {},
   "outputs": [],
   "source": [
    "# 开始循环：不同形成期和持有期\n",
    "for form_period in forming_month_j:\n",
    "    for hold_period in holding_month_k:\n",
    "\n",
    "        all_returns = []\n",
    "        past_winners = []\n",
    "        past_losers = []\n",
    "\n",
    "        # 根据hold_period生成额外的月份\n",
    "        extra_months = pd.PeriodIndex([unique_year_month[-1] + i for i in range(1, hold_period)], freq='M')\n",
    "        full_year_month = unique_year_month.union(extra_months)\n",
    "\n",
    "        # 遍历每一个唯一的年月，包括额外的月份\n",
    "        for current_ym in full_year_month:\n",
    "\n",
    "            end_date = pd.to_datetime(current_ym.to_timestamp())\n",
    "            start_date = end_date - pd.DateOffset(months=form_period)\n",
    "\n",
    "            mask = (data['Trdmnt'] > start_date) & (data['Trdmnt'] <= end_date)\n",
    "            form_returns = data.loc[mask].groupby('Stkcd')['Mretwd'].apply(lambda x: (1 + x).prod() - 1)\n",
    "\n",
    "            available_stocks = data.loc[data['Trdmnt'] > end_date]['Stkcd'].unique()\n",
    "            form_returns = form_returns[form_returns.index.isin(available_stocks)]\n",
    "\n",
    "            winners = form_returns.nlargest(winners_and_losers_count).index.tolist()\n",
    "            losers = form_returns.nsmallest(winners_and_losers_count).index.tolist()\n",
    "\n",
    "            past_winners.append(winners)\n",
    "            past_losers.append(losers)\n",
    "\n",
    "            # 如果我们的列表变得过长，就移除旧的元素\n",
    "            if len(past_winners) > hold_period:\n",
    "                past_winners.pop(0)\n",
    "                past_losers.pop(0)\n",
    "            \n",
    "            # 计算当月所有past_winners和past_losers的平均收益\n",
    "            mask = (data['Trdmnt'] == current_ym)\n",
    "            current_winner_returns = [\n",
    "                data.loc[mask & data['Stkcd'].isin(winners_month)]['Mretwd'].mean() \n",
    "                for winners_month in past_winners\n",
    "            ]\n",
    "            current_loser_returns = [\n",
    "                data.loc[mask & data['Stkcd'].isin(losers_month)]['Mretwd'].mean() \n",
    "                for losers_month in past_losers\n",
    "            ]\n",
    "            \n",
    "            # 取算数平均\n",
    "            current_winner_return = np.nanmean(current_winner_returns)\n",
    "            current_loser_return = np.nanmean(current_loser_returns)\n",
    "\n",
    "            # 计算策略收益：赢家收益 - 输家收益\n",
    "            strategy_return = current_winner_return - current_loser_return\n",
    "            all_returns.append(strategy_return)\n",
    "\n",
    "        # 移除nan，计算几何平均等\n",
    "        all_returns_clean = [x for x in all_returns if not np.isnan(x)]\n",
    "        cumulative_returns = [x + 1 for x in all_returns_clean]\n",
    "        geometric_mean = np.prod(cumulative_returns) - 1\n",
    "        annual_returns = (geometric_mean + 1) ** 12 - 1\n",
    "\n",
    "        result.loc[form_period, hold_period] = annual_returns\n"
   ]
  },
  {
   "cell_type": "code",
   "execution_count": null,
   "metadata": {},
   "outputs": [],
   "source": [
    "sns.heatmap(result.astype(float), annot=True, fmt=\".2%\", cmap=\"vlag\", center=0)\n",
    "plt.title(\"Momentum Strategy Returns (Jegadeesh and Titman, 1993)\")\n",
    "plt.xlabel(\"Holding Period (months)\")\n",
    "plt.ylabel(\"Formation Period (months)\")\n",
    "#plt.savefig(\"v2-2012.png\")  # 将图像保存为heatmap.png\n",
    "plt.show()"
   ]
  }
 ],
 "metadata": {
  "kernelspec": {
   "display_name": "Python 3 (ipykernel)",
   "language": "python",
   "name": "python3"
  },
  "language_info": {
   "codemirror_mode": {
    "name": "ipython",
    "version": 3
   },
   "file_extension": ".py",
   "mimetype": "text/x-python",
   "name": "python",
   "nbconvert_exporter": "python",
   "pygments_lexer": "ipython3",
   "version": "3.9.13"
  }
 },
 "nbformat": 4,
 "nbformat_minor": 2
}
