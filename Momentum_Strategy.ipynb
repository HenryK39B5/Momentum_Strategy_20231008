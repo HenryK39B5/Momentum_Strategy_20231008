{
 "cells": [
  {
   "cell_type": "markdown",
   "metadata": {},
   "source": [
    "# Momentum_Strategy"
   ]
  },
  {
   "cell_type": "code",
   "execution_count": null,
   "metadata": {},
   "outputs": [],
   "source": [
    "# 设定data路径\n",
    "import os\n",
    "\n",
    "os.chdir(r'F:\\Study\\Study Files\\05大三上\\金融统计分析\\实验课1\\1_Rawdata')\n",
    "\n",
    "current_path = os.getcwd()\n",
    "print(current_path)"
   ]
  },
  {
   "cell_type": "code",
   "execution_count": null,
   "metadata": {},
   "outputs": [],
   "source": [
    "import pandas as pd\n",
    "import numpy as np"
   ]
  },
  {
   "cell_type": "code",
   "execution_count": null,
   "metadata": {},
   "outputs": [],
   "source": [
    "data_raw = pd.read_csv('TRD_Mnth.csv')\n",
    "data_raw = data_raw.drop(['Markettype'], axis=1)"
   ]
  },
  {
   "cell_type": "markdown",
   "metadata": {},
   "source": [
    "## 数据清洗"
   ]
  },
  {
   "cell_type": "markdown",
   "metadata": {},
   "source": [
    "### 整体描述性统计"
   ]
  },
  {
   "cell_type": "code",
   "execution_count": null,
   "metadata": {},
   "outputs": [],
   "source": [
    "data_raw.head()"
   ]
  },
  {
   "cell_type": "code",
   "execution_count": null,
   "metadata": {},
   "outputs": [],
   "source": [
    "des = data_raw.describe(include='all')\n",
    "print(des)"
   ]
  },
  {
   "cell_type": "code",
   "execution_count": null,
   "metadata": {},
   "outputs": [],
   "source": [
    "# # 删除缺失值\n",
    "# data_raw = data_raw.dropna()\n",
    "\n",
    "# des = data_raw.describe(include='all')\n",
    "# print(des)"
   ]
  },
  {
   "cell_type": "markdown",
   "metadata": {},
   "source": [
    "问题：\n",
    "- 每只股票第一个月的收益率为空值\n",
    "- 每只股票对应的月份并非连续的，需要补充"
   ]
  },
  {
   "cell_type": "markdown",
   "metadata": {},
   "source": [
    "### 检查`Stkcd`对应月份是否连续\n",
    "- 结果：没有任何股票代码对应的月份是完全连续的"
   ]
  },
  {
   "cell_type": "code",
   "execution_count": null,
   "metadata": {},
   "outputs": [],
   "source": [
    "# # 创建data_result的副本\n",
    "# data_result_copy = data_result.copy()\n",
    "\n",
    "# # 提取Trdmnt中的月份\n",
    "# data_result_copy['month'] = data_result_copy['Trdmnt'].dt.month\n",
    "\n",
    "# # 定义一个函数，检查月份是否连续\n",
    "# def is_month_consecutive(group):\n",
    "#     sorted_months = group.sort_values()\n",
    "#     diff = np.diff(sorted_months)\n",
    "#     return np.all(diff == 1) or np.all(diff == -11)\n",
    "\n",
    "# # 按照Stkcd进行分组，在组内检查month是否连续\n",
    "# consecutive_check = data_result_copy.groupby('Stkcd')['month'].apply(is_month_consecutive)\n",
    "\n",
    "# print(consecutive_check)\n",
    "\n",
    "# # 筛选出月份连续的股票代码\n",
    "# consecutive_stkcd = consecutive_check[consecutive_check].index\n",
    "# print(consecutive_stkcd)\n",
    "\n",
    "# # 保留月份连续的股票代码的数据\n",
    "# data_1 = data_result_copy[data_result_copy['Stkcd'].isin(consecutive_stkcd)]\n",
    "\n",
    "# # data_1现在包含了符合条件的且月份连续的股票代码的数据\n",
    "# data_1.head()"
   ]
  },
  {
   "cell_type": "markdown",
   "metadata": {},
   "source": [
    "### 填充数据—补充缺失月份的数据\n",
    "> 逻辑：收益率取值为0，市值与上月相同"
   ]
  },
  {
   "cell_type": "code",
   "execution_count": null,
   "metadata": {},
   "outputs": [],
   "source": [
    "# import pandas as pd\n",
    "# import numpy as np\n",
    "\n",
    "# # 确保'Trdmnt'列是datetime类型\n",
    "# data_raw['Trdmnt'] = pd.to_datetime(data_raw['Trdmnt'], format='%Y-%m')\n",
    "\n",
    "# # 对数据进行排序\n",
    "# data_raw = data_raw.sort_values(by=['Stkcd', 'Trdmnt'])\n",
    "\n",
    "# # 使用groupby和apply函数实现数据的填充\n",
    "# def fill_data(df):\n",
    "#     # 生成一个完整的月份范围\n",
    "#     all_months = pd.date_range(df['Trdmnt'].min(), df['Trdmnt'].max(), freq='M')\n",
    "    \n",
    "#     # 建立一个新的DataFrame来储存完整的月份和原始数据的匹配\n",
    "#     new_df = pd.DataFrame(all_months, columns=['Trdmnt'])\n",
    "#     new_df['Stkcd'] = df.iloc[0]['Stkcd']\n",
    "    \n",
    "#     # 将新数据和旧数据合并，并填充缺失值\n",
    "#     merged_df = pd.merge(new_df, df, on=['Trdmnt', 'Stkcd'], how='left')\n",
    "#     merged_df['Msmvosd'].fillna(method='ffill', inplace=True) # 填充市值\n",
    "#     merged_df['Mretwd'].fillna(0, inplace=True)               # 填充回报率\n",
    "    \n",
    "#     # 确保第一个月的回报率为0\n",
    "#     merged_df.loc[merged_df['Trdmnt'] == merged_df['Trdmnt'].min(), 'Mretwd'] = 0\n",
    "    \n",
    "#     return merged_df\n",
    "\n",
    "# # 应用函数并连接结果\n",
    "# filled_data = pd.concat([fill_data(df) for _, df in data_raw.groupby('Stkcd')], ignore_index=True)\n",
    "\n",
    "# # 保存处理后的数据\n",
    "# filled_data.to_csv(\"filled_TRD_Mnth.csv\", index=False)"
   ]
  },
  {
   "cell_type": "markdown",
   "metadata": {},
   "source": [
    "## 策略构建"
   ]
  },
  {
   "cell_type": "code",
   "execution_count": null,
   "metadata": {},
   "outputs": [],
   "source": [
    "import pandas as pd\n",
    "import numpy as np\n",
    "import matplotlib.pyplot as plt\n",
    "import seaborn as sns\n",
    "\n",
    "# 读取数据\n",
    "data = pd.read_csv('TRD_Mnth.csv')\n",
    "\n",
    "# 确保数据按股票代码和日期排序\n",
    "data = data.sort_values(['Stkcd', 'Trdmnt'])\n",
    "data['Trdmnt'] = pd.to_datetime(data['Trdmnt'])\n",
    "\n",
    "# 设置回测期\n",
    "data = data[(data['Trdmnt'] >= '1992-01-01') & (data['Trdmnt'] <= '2021-12-31')]\n",
    "\n",
    "# 初始化一个3x3的DataFrame来保存不同策略的收益\n",
    "result = pd.DataFrame(index=[1,3,6], columns=[1,3,6])\n",
    "\n",
    "# 开始循环：不同形成期和持有期\n",
    "for form_period in [1,3,6]:\n",
    "    for hold_period in [1,3,6]:\n",
    "        \n",
    "        all_returns = []\n",
    "        \n",
    "        # 遍历每一个可以进行交易的日期\n",
    "        for end_date in pd.date_range(start='1992-01-01', end='2021-12-31', freq='M'):\n",
    "            start_date = end_date - pd.DateOffset(months=form_period)  # 形成期起始日期\n",
    "            hold_end_date = end_date + pd.DateOffset(months=hold_period)  # 持有期结束日期\n",
    "            \n",
    "            if hold_end_date > data['Trdmnt'].max():\n",
    "                continue\n",
    "            \n",
    "            # 计算形成期内的累计收益\n",
    "            mask = (data['Trdmnt'] >= start_date) & (data['Trdmnt'] < end_date)\n",
    "            form_returns = data.loc[mask].groupby('Stkcd')['Mretwd'].apply(lambda x: (1 + x).prod() - 1)\n",
    "\n",
    "            # 检查在持有期间是否有数据\n",
    "            mask = (data['Trdmnt'] > end_date) & (data['Trdmnt'] <= hold_end_date)\n",
    "            available_stocks = data.loc[mask]['Stkcd'].unique()\n",
    "            \n",
    "            # 仅保留那些在持有期内有数据的股票\n",
    "            form_returns = form_returns[form_returns.index.isin(available_stocks)]\n",
    "            \n",
    "            # 从剩下的股票中确定赢家和输家\n",
    "            \n",
    "            winners = form_returns.nlargest(10).index\n",
    "            losers = form_returns.nsmallest(10).index\n",
    "            \n",
    "            # 计算持有期收益\n",
    "            mask = (data['Trdmnt'] > end_date) & (data['Trdmnt'] <= hold_end_date)\n",
    "            hold_returns = data.loc[mask].groupby(['Stkcd', 'Trdmnt'])['Mretwd'].apply(lambda x: ((1 + x).prod())**(1/hold_period) - 1).unstack().mean(axis=1)\n",
    "            \n",
    "            winner_returns = hold_returns.loc[winners].mean()\n",
    "            loser_returns = hold_returns.loc[losers].mean()\n",
    "            \n",
    "            # 计算策略收益：赢家收益 - 输家收益\n",
    "            strategy_return = winner_returns - loser_returns\n",
    "            \n",
    "            all_returns.append(strategy_return)\n",
    "            \n",
    "        cumulative_returns = all_returns + 1  # 每个月的累计收益率\n",
    "        geometric_mean = np.prod(cumulative_returns) - 1  # 几何平均收益率\n",
    "        annual_returns = (geometric_mean + 1) ** 12 - 1  # 年收益率\n",
    "\n",
    "        result.loc[form_period, hold_period] = annual_returns\n"
   ]
  },
  {
   "cell_type": "markdown",
   "metadata": {},
   "source": [
    "## 完整代码"
   ]
  },
  {
   "cell_type": "code",
   "execution_count": null,
   "metadata": {},
   "outputs": [],
   "source": [
    "# 设定data路径\n",
    "import os\n",
    "\n",
    "os.chdir(r'F:\\Study\\Study Files\\05大三上\\金融统计分析\\实验课1\\1_Rawdata')\n",
    "\n",
    "current_path = os.getcwd()\n",
    "print(current_path)\n",
    "\n",
    "import pandas as pd\n",
    "import numpy as np\n",
    "import datetime as dt\n",
    "import matplotlib.pyplot as plt\n",
    "import seaborn as sns\n",
    "\n",
    "# 读取数据\n",
    "data = pd.read_csv('TRD_Mnth.csv')\n",
    "data = data.drop(['Markettype'], axis=1)\n",
    "\n",
    "data.head()\n",
    "\n",
    "\n",
    "# 确保数据按股票代码和日期排序\n",
    "data = data.sort_values(['Stkcd', 'Trdmnt'])\n",
    "data['Trdmnt'] = pd.to_datetime(data['Trdmnt'])\n",
    "\n",
    "# 设置回测期\n",
    "data_trade = data[(data['Trdmnt'] >= '2021-01-01') & (data['Trdmnt'] <= '2022-12-31')]\n",
    "\n",
    "# 初始化一个3x3的DataFrame来保存不同策略的收益\n",
    "result = pd.DataFrame(index=[1,3,6], columns=[1,3,6])\n",
    "\n",
    "# 获取唯一的年月，作为回测的月份点\n",
    "unique_year_month = data_trade['Trdmnt'].dt.to_period('M').unique()\n",
    "\n",
    "\n",
    "# 开始循环：不同形成期和持有期\n",
    "for form_period in [1,3,6]:\n",
    "    for hold_period in [1,3,6]:\n",
    "        \n",
    "        all_returns = []\n",
    "        \n",
    "        # 遍历每一个唯一的年月\n",
    "        for current_ym in unique_year_month:\n",
    "            \n",
    "            # 将年月转换为实际的日期\n",
    "            end_date = pd.to_datetime(current_ym.to_timestamp())\n",
    "            start_date = end_date - pd.DateOffset(months=form_period)  # 形成期起始日期\n",
    "            hold_end_date = end_date + pd.DateOffset(months=hold_period)  # 持有期结束日期\n",
    "            \n",
    "            if hold_end_date > data['Trdmnt'].max():\n",
    "                continue\n",
    "            \n",
    "            # 计算形成期内的累计收益\n",
    "            mask = (data['Trdmnt'] > start_date) & (data['Trdmnt'] <= end_date)\n",
    "            form_returns = data.loc[mask].groupby('Stkcd')['Mretwd'].apply(lambda x: (1 + x).prod() - 1)\n",
    "\n",
    "            # 检查在持有期间是否有数据\n",
    "            mask = (data['Trdmnt'] > end_date) & (data['Trdmnt'] <= hold_end_date)\n",
    "            available_stocks = data.loc[mask]['Stkcd'].unique()\n",
    "            \n",
    "            # 仅保留那些在持有期内有数据的股票\n",
    "            form_returns = form_returns[form_returns.index.isin(available_stocks)]\n",
    "            \n",
    "            # 从剩下的股票中确定赢家和输家\n",
    "            \n",
    "            winners = form_returns.nlargest(10).index\n",
    "            losers = form_returns.nsmallest(10).index\n",
    "            \n",
    "            # 计算持有期收益\n",
    "            mask = (data['Trdmnt'] > end_date) & (data['Trdmnt'] <= hold_end_date)\n",
    "            hold_returns = data.loc[mask].groupby(['Stkcd', 'Trdmnt'])['Mretwd'].apply(lambda x: ((1 + x).prod())**(1/hold_period) - 1).unstack().mean(axis=1)\n",
    "            \n",
    "            winner_returns = hold_returns.loc[winners].mean()\n",
    "            loser_returns = hold_returns.loc[losers].mean()\n",
    "            \n",
    "            # 计算策略收益：赢家收益 - 输家收益\n",
    "            strategy_return = winner_returns - loser_returns\n",
    "            \n",
    "            all_returns.append(strategy_return)\n",
    "            \n",
    "        # 删除缺失值\n",
    "        all_returns_clean = [x for x in all_returns if not np.isnan(x)]\n",
    "\n",
    "        # 计算累计收益率、几何平均收益率和年收益率\n",
    "        cumulative_returns = [x + 1 for x in all_returns_clean]\n",
    "        geometric_mean = np.prod(cumulative_returns) - 1\n",
    "        annual_returns = (geometric_mean + 1) ** 12 - 1\n",
    "\n",
    "        result.loc[form_period, hold_period] = annual_returns\n",
    "\n",
    "sns.heatmap(result.astype(float), annot=True, fmt=\".2%\", cmap=\"vlag\", center=0)\n",
    "plt.title(\"Momentum Strategy Returns (Jegadeesh and Titman, 1993)\")\n",
    "plt.xlabel(\"Holding Period (months)\")\n",
    "plt.ylabel(\"Formation Period (months)\")\n",
    "#plt.savefig(\"v2-2012.png\")  # 将图像保存为heatmap.png\n",
    "plt.show()"
   ]
  }
 ],
 "metadata": {
  "kernelspec": {
   "display_name": "Python 3 (ipykernel)",
   "language": "python",
   "name": "python3"
  },
  "language_info": {
   "codemirror_mode": {
    "name": "ipython",
    "version": 3
   },
   "file_extension": ".py",
   "mimetype": "text/x-python",
   "name": "python",
   "nbconvert_exporter": "python",
   "pygments_lexer": "ipython3",
   "version": "3.9.13"
  }
 },
 "nbformat": 4,
 "nbformat_minor": 2
}
