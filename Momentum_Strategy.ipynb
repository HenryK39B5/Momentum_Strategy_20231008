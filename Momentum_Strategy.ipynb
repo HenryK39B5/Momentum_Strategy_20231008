{
 "cells": [
  {
   "cell_type": "markdown",
   "metadata": {},
   "source": [
    "# Momentum_Strategy"
   ]
  },
  {
   "cell_type": "code",
   "execution_count": null,
   "metadata": {},
   "outputs": [],
   "source": [
    "# 设定data路径\n",
    "import os\n",
    "\n",
    "os.chdir(r'F:\\Study\\Study Files\\05大三上\\金融统计分析\\实验课1\\1_Rawdata')\n",
    "\n",
    "current_path = os.getcwd()\n",
    "print(current_path)"
   ]
  },
  {
   "cell_type": "code",
   "execution_count": 2,
   "metadata": {},
   "outputs": [],
   "source": [
    "import pandas as pd\n",
    "import numpy as np"
   ]
  },
  {
   "cell_type": "code",
   "execution_count": 3,
   "metadata": {},
   "outputs": [],
   "source": [
    "data = pd.read_csv('TRD_Mnth.csv')\n",
    "#data = data.drop(['Markettype'], axis=1)"
   ]
  },
  {
   "cell_type": "markdown",
   "metadata": {},
   "source": [
    "## 数据清洗"
   ]
  },
  {
   "cell_type": "code",
   "execution_count": 4,
   "metadata": {},
   "outputs": [],
   "source": [
    "# data_raw.head()\n",
    "\n",
    "# des = data_raw.describe(include='all')\n",
    "# print(des)"
   ]
  },
  {
   "cell_type": "code",
   "execution_count": 5,
   "metadata": {},
   "outputs": [],
   "source": [
    "# data_raw = data_raw.dropna()\n",
    "\n",
    "# des = data_raw.describe(include='all')\n",
    "# print(des)"
   ]
  },
  {
   "cell_type": "markdown",
   "metadata": {},
   "source": [
    "### 剔除对应股票代码：没有完整回测期以及前后半年（回测期为`1992/1/1-2021/12/1`）"
   ]
  },
  {
   "cell_type": "code",
   "execution_count": 6,
   "metadata": {},
   "outputs": [],
   "source": [
    "# start_date = '1991-06'\n",
    "# end_date = '2022-06'\n",
    "\n",
    "# # 将Trdmnt列转换为datetime类型\n",
    "# data_raw['Trdmnt'] = pd.to_datetime(data_raw['Trdmnt'], format='%Y-%m')\n",
    "\n",
    "# '''\n",
    "# # 筛选出在指定时间范围内的数据\n",
    "# data_filtered1 = data_raw[(data_raw['Trdmnt'] >= start_date) & (data_raw['Trdmnt'] <= end_date)]\n",
    "# '''\n",
    "# data_filtered1 = data_raw\n",
    "\n",
    "# # 按Stkcd分组并计算每组的时间跨度\n",
    "# grouped = data_filtered1.groupby('Stkcd')['Trdmnt'].agg(['min', 'max'])\n",
    "\n",
    "# # 筛选出符合条件的股票代码\n",
    "# valid_stkcd = grouped[(grouped['min'] <= start_date) & (grouped['max'] >= end_date)].index\n",
    "\n",
    "# # 保留符合条件的股票代码的数据\n",
    "# data_result = data_filtered1[data_filtered1['Stkcd'].isin(valid_stkcd)]\n",
    "\n",
    "# # data_result现在包含了符合条件的股票代码的数据\n",
    "# data_result.head()"
   ]
  },
  {
   "cell_type": "markdown",
   "metadata": {},
   "source": [
    "### 检查`Stkcd`对应月份是否连续\n",
    "- 结果：没有任何股票代码对应的月份是完全连续的"
   ]
  },
  {
   "cell_type": "code",
   "execution_count": 7,
   "metadata": {},
   "outputs": [],
   "source": [
    "# # 创建data_result的副本\n",
    "# data_result_copy = data_result.copy()\n",
    "\n",
    "# # 提取Trdmnt中的月份\n",
    "# data_result_copy['month'] = data_result_copy['Trdmnt'].dt.month\n",
    "\n",
    "# # 定义一个函数，检查月份是否连续\n",
    "# def is_month_consecutive(group):\n",
    "#     sorted_months = group.sort_values()\n",
    "#     diff = np.diff(sorted_months)\n",
    "#     return np.all(diff == 1) or np.all(diff == -11)\n",
    "\n",
    "# # 按照Stkcd进行分组，在组内检查month是否连续\n",
    "# consecutive_check = data_result_copy.groupby('Stkcd')['month'].apply(is_month_consecutive)\n",
    "\n",
    "# print(consecutive_check)\n",
    "\n",
    "# # 筛选出月份连续的股票代码\n",
    "# consecutive_stkcd = consecutive_check[consecutive_check].index\n",
    "# print(consecutive_stkcd)\n",
    "\n",
    "# # 保留月份连续的股票代码的数据\n",
    "# data_1 = data_result_copy[data_result_copy['Stkcd'].isin(consecutive_stkcd)]\n",
    "\n",
    "# # data_1现在包含了符合条件的且月份连续的股票代码的数据\n",
    "# data_1.head()"
   ]
  },
  {
   "cell_type": "markdown",
   "metadata": {},
   "source": [
    "- 填充数据"
   ]
  },
  {
   "cell_type": "code",
   "execution_count": 8,
   "metadata": {},
   "outputs": [],
   "source": [
    "# import pandas as pd\n",
    "# import numpy as np\n",
    "\n",
    "# # 创建data_result的副本\n",
    "# data_result_copy = data_result.copy()\n",
    "\n",
    "# def fill_missing_months(group):\n",
    "#     group = group.set_index('Trdmnt')\n",
    "#     group = group.resample('M').asfreq()\n",
    "#     group['Stkcd'] = group['Stkcd'].fillna(method='ffill').fillna(method='bfill')\n",
    "#     group['Msmvosd'] = group['Msmvosd'].fillna(method='ffill').fillna(method='bfill')\n",
    "#     group['Mretwd'] = group['Mretwd'].fillna(0)\n",
    "#     return group\n",
    "\n",
    "\n",
    "# # 按照Stkcd进行分组，补充缺失月份\n",
    "# filled_data = data_result_copy.groupby('Stkcd', group_keys=False).apply(fill_missing_months).reset_index()\n",
    "\n",
    "# # filled_data现在包含了补充缺失月份的数据\n",
    "# print(filled_data)\n"
   ]
  },
  {
   "cell_type": "markdown",
   "metadata": {},
   "source": [
    "## 策略构建"
   ]
  },
  {
   "cell_type": "markdown",
   "metadata": {},
   "source": [
    "### BingAI"
   ]
  },
  {
   "cell_type": "code",
   "execution_count": 9,
   "metadata": {},
   "outputs": [],
   "source": [
    "# # 导入所需的库\n",
    "# import pandas as pd\n",
    "# import numpy as np\n",
    "# import matplotlib.pyplot as plt\n",
    "\n",
    "# # 定义形成期和持有期的列表\n",
    "# formation_periods = [1, 3, 6]\n",
    "# holding_periods = [1, 3, 6]\n",
    "\n",
    "# # 读取TRD_Mnth.csv文件，将'Trdmnt'列转换为日期格式，并设置为索引\n",
    "# data = pd.read_csv(\"TRD_Mnth.csv\", parse_dates=[\"Trdmnt\"], index_col=\"Trdmnt\")\n",
    "\n",
    "# # 计算每只股票在每个形成期内的累积收益率\n",
    "# returns = {}\n",
    "# for fp in formation_periods:\n",
    "#     # 对于每个形成期，先将数据按照股票代码和交易日期进行分组和排序\n",
    "#     grouped = data.groupby([\"Stkcd\", \"Trdmnt\"]).first().sort_index()\n",
    "#     # 然后，使用shift函数将数据向后移动fp个月，以便计算形成期内的累积收益率\n",
    "#     shifted = grouped.shift(fp)\n",
    "#     # 接着，使用pct_change函数计算形成期内的累积收益率，并将结果存储到returns字典中\n",
    "#     returns[fp] = grouped[\"Mretwd\"].pct_change().div(shifted[\"Mretwd\"])\n",
    "\n",
    "# # 创建一个空的DataFrame来存储不同形成期和持有期下的多空组合收益率\n",
    "# results = pd.DataFrame(index=formation_periods, columns=holding_periods)\n",
    "\n",
    "# # 对于每个形成期和持有期的组合，执行以下步骤：\n",
    "# for fp in formation_periods:\n",
    "#     for hp in holding_periods:\n",
    "#         # 根据累积收益率对股票进行分组和排序\n",
    "#         groups = returns[fp].groupby(level=0).rank(ascending=False)\n",
    "#         # 构建多空组合，并计算其在每个持有期内的收益率\n",
    "#         portfolio = data[\"Mretwd\"].groupby(level=0).shift(-hp)\n",
    "#         portfolio = portfolio * (groups <= 50) - portfolio * (groups > 450)\n",
    "#         portfolio = portfolio.groupby(level=0).mean()\n",
    "#         # 计算多空组合的年化收益率，并存储到结果DataFrame中\n",
    "#         annualized_return = (portfolio + 1).prod() ** (12 / (fp * len(portfolio))) - 1\n",
    "#         results.loc[fp, hp] = annualized_return\n",
    "\n",
    "# # 绘制结果DataFrame的表格\n",
    "# plt.figure(figsize=(10, 6))\n",
    "# plt.table(cellText=results.round(4).values, rowLabels=results.index, colLabels=results.columns, loc=\"center\")\n",
    "# plt.axis(\"off\")\n",
    "# plt.title(\"Momentum Strategy Annualized Returns\")\n",
    "# plt.show()\n"
   ]
  },
  {
   "cell_type": "markdown",
   "metadata": {},
   "source": [
    "### GPT4 by 20 times use perday"
   ]
  },
  {
   "cell_type": "code",
   "execution_count": null,
   "metadata": {},
   "outputs": [],
   "source": [
    "import pandas as pd\n",
    "import numpy as np\n",
    "import matplotlib.pyplot as plt\n",
    "import seaborn as sns\n",
    "\n",
    "# 读取数据\n",
    "data = pd.read_csv('TRD_Mnth.csv')\n",
    "\n",
    "# 确保数据按股票代码和日期排序\n",
    "data = data.sort_values(['Stkcd', 'Trdmnt'])\n",
    "data['Trdmnt'] = pd.to_datetime(data['Trdmnt'])\n",
    "\n",
    "# 设置回测期\n",
    "data = data[(data['Trdmnt'] >= '1992-01-01') & (data['Trdmnt'] <= '2021-12-31')]\n",
    "\n",
    "# 初始化一个3x3的DataFrame来保存不同策略的收益\n",
    "result = pd.DataFrame(index=[1,3,6], columns=[1,3,6])\n",
    "\n",
    "# 开始循环：不同形成期和持有期\n",
    "for form_period in [1,3,6]:\n",
    "    for hold_period in [1,3,6]:\n",
    "        \n",
    "        all_returns = []\n",
    "        \n",
    "        # 遍历每一个可以进行交易的日期\n",
    "        for end_date in pd.date_range(start='1992-01-01', end='2021-12-31', freq='M'):\n",
    "            start_date = end_date - pd.DateOffset(months=form_period)  # 形成期起始日期\n",
    "            hold_end_date = end_date + pd.DateOffset(months=hold_period)  # 持有期结束日期\n",
    "            \n",
    "            if hold_end_date > data['Trdmnt'].max():\n",
    "                continue\n",
    "            \n",
    "            # 计算形成期内的累计收益\n",
    "            mask = (data['Trdmnt'] >= start_date) & (data['Trdmnt'] < end_date)\n",
    "            form_returns = data.loc[mask].groupby('Stkcd')['Mretwd'].apply(lambda x: (1 + x).prod() - 1)\n",
    "            \n",
    "            winners = form_returns.nlargest(10).index\n",
    "            losers = form_returns.nsmallest(10).index\n",
    "            \n",
    "            # 计算持有期收益\n",
    "            mask = (data['Trdmnt'] > end_date) & (data['Trdmnt'] <= hold_end_date)\n",
    "            hold_returns = data.loc[mask].groupby(['Stkcd', 'Trdmnt'])['Mretwd'].apply(lambda x: ((1 + x).prod())**(1/hold_period) - 1).unstack().mean(axis=1)\n",
    "            \n",
    "            winner_returns = hold_returns.loc[winners].mean()\n",
    "            loser_returns = hold_returns.loc[losers].mean()\n",
    "            \n",
    "            # 计算策略收益：赢家收益 - 输家收益\n",
    "            strategy_return = winner_returns - loser_returns\n",
    "            \n",
    "            all_returns.append(strategy_return)\n",
    "            \n",
    "        result.loc[form_period, hold_period] = np.mean(all_returns)\n",
    "\n",
    "# 展示结果\n",
    "sns.heatmap(result, annot=True, fmt=\".2%\", cmap=\"RdYlGn\", center=0)\n",
    "plt.title(\"Momentum Strategy Returns (Jegadeesh and Titman, 1993)\")\n",
    "plt.xlabel(\"Holding Period (months)\")\n",
    "plt.ylabel(\"Formation Period (months)\")\n",
    "plt.show()"
   ]
  },
  {
   "cell_type": "code",
   "execution_count": null,
   "metadata": {},
   "outputs": [],
   "source": []
  },
  {
   "cell_type": "code",
   "execution_count": null,
   "metadata": {},
   "outputs": [],
   "source": []
  },
  {
   "cell_type": "code",
   "execution_count": null,
   "metadata": {},
   "outputs": [],
   "source": []
  },
  {
   "cell_type": "code",
   "execution_count": null,
   "metadata": {},
   "outputs": [],
   "source": []
  }
 ],
 "metadata": {
  "kernelspec": {
   "display_name": "Python 3 (ipykernel)",
   "language": "python",
   "name": "python3"
  },
  "language_info": {
   "codemirror_mode": {
    "name": "ipython",
    "version": 3
   },
   "file_extension": ".py",
   "mimetype": "text/x-python",
   "name": "python",
   "nbconvert_exporter": "python",
   "pygments_lexer": "ipython3",
   "version": "3.9.13"
  }
 },
 "nbformat": 4,
 "nbformat_minor": 2
}
