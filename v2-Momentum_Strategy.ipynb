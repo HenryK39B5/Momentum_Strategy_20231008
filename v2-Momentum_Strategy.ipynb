{
 "cells": [
  {
   "cell_type": "markdown",
   "metadata": {},
   "source": [
    "# Momentum_Strategy"
   ]
  },
  {
   "cell_type": "code",
   "execution_count": 1,
   "metadata": {},
   "outputs": [
    {
     "name": "stdout",
     "output_type": "stream",
     "text": [
      "F:\\Study\\Study Files\\05大三上\\金融统计分析\\实验课1\\1_Rawdata\n"
     ]
    }
   ],
   "source": [
    "# 设定data路径\n",
    "import os\n",
    "\n",
    "os.chdir(r'F:\\Study\\Study Files\\05大三上\\金融统计分析\\实验课1\\1_Rawdata')\n",
    "\n",
    "current_path = os.getcwd()\n",
    "print(current_path)"
   ]
  },
  {
   "cell_type": "markdown",
   "metadata": {},
   "source": [
    "## 策略构建"
   ]
  },
  {
   "cell_type": "code",
   "execution_count": 2,
   "metadata": {},
   "outputs": [
    {
     "data": {
      "text/html": [
       "<div>\n",
       "<style scoped>\n",
       "    .dataframe tbody tr th:only-of-type {\n",
       "        vertical-align: middle;\n",
       "    }\n",
       "\n",
       "    .dataframe tbody tr th {\n",
       "        vertical-align: top;\n",
       "    }\n",
       "\n",
       "    .dataframe thead th {\n",
       "        text-align: right;\n",
       "    }\n",
       "</style>\n",
       "<table border=\"1\" class=\"dataframe\">\n",
       "  <thead>\n",
       "    <tr style=\"text-align: right;\">\n",
       "      <th></th>\n",
       "      <th>Stkcd</th>\n",
       "      <th>Trdmnt</th>\n",
       "      <th>Msmvosd</th>\n",
       "      <th>Mretwd</th>\n",
       "    </tr>\n",
       "  </thead>\n",
       "  <tbody>\n",
       "    <tr>\n",
       "      <th>0</th>\n",
       "      <td>1</td>\n",
       "      <td>1991-04</td>\n",
       "      <td>1157520.00</td>\n",
       "      <td>NaN</td>\n",
       "    </tr>\n",
       "    <tr>\n",
       "      <th>1</th>\n",
       "      <td>1</td>\n",
       "      <td>1991-05</td>\n",
       "      <td>1016010.00</td>\n",
       "      <td>-0.122253</td>\n",
       "    </tr>\n",
       "    <tr>\n",
       "      <th>2</th>\n",
       "      <td>1</td>\n",
       "      <td>1991-06</td>\n",
       "      <td>900735.00</td>\n",
       "      <td>-0.113459</td>\n",
       "    </tr>\n",
       "    <tr>\n",
       "      <th>3</th>\n",
       "      <td>1</td>\n",
       "      <td>1991-07</td>\n",
       "      <td>782810.00</td>\n",
       "      <td>-0.130921</td>\n",
       "    </tr>\n",
       "    <tr>\n",
       "      <th>4</th>\n",
       "      <td>1</td>\n",
       "      <td>1991-08</td>\n",
       "      <td>674833.82</td>\n",
       "      <td>-0.411588</td>\n",
       "    </tr>\n",
       "  </tbody>\n",
       "</table>\n",
       "</div>"
      ],
      "text/plain": [
       "   Stkcd   Trdmnt     Msmvosd    Mretwd\n",
       "0      1  1991-04  1157520.00       NaN\n",
       "1      1  1991-05  1016010.00 -0.122253\n",
       "2      1  1991-06   900735.00 -0.113459\n",
       "3      1  1991-07   782810.00 -0.130921\n",
       "4      1  1991-08   674833.82 -0.411588"
      ]
     },
     "execution_count": 2,
     "metadata": {},
     "output_type": "execute_result"
    }
   ],
   "source": [
    "import pandas as pd\n",
    "import numpy as np\n",
    "import datetime as dt\n",
    "import matplotlib.pyplot as plt\n",
    "import seaborn as sns\n",
    "\n",
    "# 读取数据\n",
    "data = pd.read_csv('TRD_Mnth.csv')\n",
    "data = data.drop(['Markettype'], axis=1)\n",
    "\n",
    "data.head()"
   ]
  },
  {
   "cell_type": "code",
   "execution_count": 3,
   "metadata": {},
   "outputs": [],
   "source": [
    "\n",
    "\n",
    "# 确保数据按股票代码和日期排序\n",
    "data = data.sort_values(['Stkcd', 'Trdmnt'])\n",
    "data['Trdmnt'] = pd.to_datetime(data['Trdmnt'])\n",
    "\n",
    "# 设置回测期\n",
    "data_trade = data[(data['Trdmnt'] >= '2021-01-01') & (data['Trdmnt'] <= '2022-12-31')]\n",
    "\n",
    "# 初始化一个3x3的DataFrame来保存不同策略的收益\n",
    "result = pd.DataFrame(index=[1,3,6], columns=[1,3,6])\n",
    "\n",
    "# 获取唯一的年月，作为回测的月份点\n",
    "unique_year_month = data_trade['Trdmnt'].dt.to_period('M').unique()\n",
    "\n",
    "\n",
    "# 开始循环：不同形成期和持有期\n",
    "for form_period in [1,3,6]:\n",
    "    for hold_period in [1,3,6]:\n",
    "        \n",
    "        all_returns = []\n",
    "        \n",
    "        # 遍历每一个唯一的年月\n",
    "        for current_ym in unique_year_month:\n",
    "            \n",
    "            # 将年月转换为实际的日期\n",
    "            end_date = pd.to_datetime(current_ym.to_timestamp())\n",
    "            start_date = end_date - pd.DateOffset(months=form_period)  # 形成期起始日期\n",
    "            hold_end_date = end_date + pd.DateOffset(months=hold_period)  # 持有期结束日期\n",
    "            \n",
    "            if hold_end_date > data['Trdmnt'].max():\n",
    "                continue\n",
    "            \n",
    "            # 计算形成期内的累计收益\n",
    "            mask = (data['Trdmnt'] > start_date) & (data['Trdmnt'] <= end_date)\n",
    "            form_returns = data.loc[mask].groupby('Stkcd')['Mretwd'].apply(lambda x: (1 + x).prod() - 1)\n",
    "\n",
    "            # 检查在持有期间是否有数据\n",
    "            mask = (data['Trdmnt'] > end_date) & (data['Trdmnt'] <= hold_end_date)\n",
    "            available_stocks = data.loc[mask]['Stkcd'].unique()\n",
    "            \n",
    "            # 仅保留那些在持有期内有数据的股票\n",
    "            form_returns = form_returns[form_returns.index.isin(available_stocks)]\n",
    "            \n",
    "            # 从剩下的股票中确定赢家和输家\n",
    "            \n",
    "            winners = form_returns.nlargest(10).index\n",
    "            losers = form_returns.nsmallest(10).index\n",
    "            \n",
    "            # 计算持有期收益\n",
    "            mask = (data['Trdmnt'] > end_date) & (data['Trdmnt'] <= hold_end_date)\n",
    "            hold_returns = data.loc[mask].groupby(['Stkcd', 'Trdmnt'])['Mretwd'].apply(lambda x: ((1 + x).prod())**(1/hold_period) - 1).unstack().mean(axis=1)\n",
    "            \n",
    "            winner_returns = hold_returns.loc[winners].mean()\n",
    "            loser_returns = hold_returns.loc[losers].mean()\n",
    "            \n",
    "            # 计算策略收益：赢家收益 - 输家收益\n",
    "            strategy_return = winner_returns - loser_returns\n",
    "            \n",
    "            all_returns.append(strategy_return)\n",
    "            \n",
    "        # 删除缺失值\n",
    "        all_returns_clean = [x for x in all_returns if not np.isnan(x)]\n",
    "\n",
    "        # 计算累计收益率、几何平均收益率和年收益率\n",
    "        cumulative_returns = [x + 1 for x in all_returns_clean]\n",
    "        geometric_mean = np.prod(cumulative_returns) - 1\n",
    "        annual_returns = (geometric_mean + 1) ** 12 - 1\n",
    "\n",
    "        result.loc[form_period, hold_period] = annual_returns\n"
   ]
  },
  {
   "cell_type": "code",
   "execution_count": 4,
   "metadata": {},
   "outputs": [
    {
     "data": {
      "image/png": "[encoded data removed]",
      "text/plain": [
       "<Figure size 640x480 with 2 Axes>"
      ]
     },
     "metadata": {},
     "output_type": "display_data"
    }
   ],
   "source": [
    "sns.heatmap(result.astype(float), annot=True, fmt=\".2%\", cmap=\"vlag\", center=0)\n",
    "plt.title(\"Momentum Strategy Returns (Jegadeesh and Titman, 1993)\")\n",
    "plt.xlabel(\"Holding Period (months)\")\n",
    "plt.ylabel(\"Formation Period (months)\")\n",
    "#plt.savefig(\"v2-2012.png\")  # 将图像保存为heatmap.png\n",
    "plt.show()"
   ]
  },
  {
   "cell_type": "code",
   "execution_count": null,
   "metadata": {},
   "outputs": [],
   "source": []
  }
 ],
 "metadata": {
  "kernelspec": {
   "display_name": "Python 3 (ipykernel)",
   "language": "python",
   "name": "python3"
  },
  "language_info": {
   "codemirror_mode": {
    "name": "ipython",
    "version": 3
   },
   "file_extension": ".py",
   "mimetype": "text/x-python",
   "name": "python",
   "nbconvert_exporter": "python",
   "pygments_lexer": "ipython3",
   "version": "3.9.13"
  }
 },
 "nbformat": 4,
 "nbformat_minor": 2
}
